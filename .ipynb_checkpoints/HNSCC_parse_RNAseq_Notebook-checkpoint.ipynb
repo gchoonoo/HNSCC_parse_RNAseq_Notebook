{
 "cells": [
  {
   "cell_type": "markdown",
   "metadata": {},
   "source": [
    "# HNSCC RNA-Seq Data\n",
    "\n",
    "## Download and Parse TCGA RNA-Seq Data Workflow\n",
    "\n",
    "### McWeeney Lab, Oregon Health & Science University\n",
    "\n",
    "** Author: Gabrielle Choonoo (choonoo@ohsu.edu) **\n",
    "\n",
    "## Introduction\n",
    "\n",
    "This is the step-by-step workflow for downloading and parsing TCGA RNA-Seq Data to a tab-deliminated file that contains genes as rows and patient IDs as columns. Parses all 3 versions of RNA seq: FPKM, FPKM-UQ, and Htseq counts.\n",
    "\n",
    "Required Files:\n",
    "* Manifest File (.txt)\n",
    "* Meta Data (.json)\n",
    "* This notebook (HNSCC_parse_RNAseq_Notebook.ipynb): [[Download here]](https://raw.githubusercontent.com/gchoonoo/HNSCC_parse_RNAseq_Notebook/master/HNSCC_parse_RNAseq_Notebook.ipynb)\n",
    "\n",
    "Required R packages:\n",
    "- `readr`\n",
    "- `tidyjson`\n",
    "\n",
    "Recommended software:\n",
    "* VirtualBox (This workflow can be ran locally, however it can require up to 40GB of storage space)\n",
    "\n",
    "**Note: this notebook can also be downloaded as shell or R scripts (only the code blocks seen below will be included): \n",
    "* [[Download shell script here]](https://raw.githubusercontent.com/gchoonoo/HNSCC_Clinical_Data_Notebook/master/rnaseq.sh)\n",
    "* [[Download R script here]](https://raw.githubusercontent.com/gchoonoo/HNSCC_Clinical_Data_Notebook/master/parse_rnaseq_local.r)\n",
    "* [[Download R script here]](https://raw.githubusercontent.com/gchoonoo/HNSCC_Clinical_Data_Notebook/master/parse_rnaseq_virtual.r)\n",
    "\n",
    "** All code is available on GitHub: [https://github.com/gchoonoo/HNSCC_parse_RNAseq_Notebook](https://github.com/gchoonoo/HNSCC_parse_RNAseq_Notebook) **"
   ]
  },
  {
   "cell_type": "markdown",
   "metadata": {},
   "source": [
    "## Download TCGA RNA-Seq data"
   ]
  },
  {
   "cell_type": "markdown",
   "metadata": {},
   "source": [
    "1) https://gdc-portal.nci.nih.gov/\n",
    "\n",
    "2) Click data\n",
    "\n",
    "3) Select cancer type (Head and neck) and Gene Expression Quantification for the data type\n",
    "\n",
    "4) Add all files to cart and go to cart (1638 files)\n",
    "\n",
    "5) From the Download pull down menu, select Manifest\n",
    "\n",
    "6) Click the Metadata button to left of the Download button. \n",
    "\n",
    "Now you have the required files needed to query TCGA, which is the manifest file (.txt) and the Metadata file (.json)\n"
   ]
  },
  {
   "cell_type": "markdown",
   "metadata": {},
   "source": [
    "## Initialize new machine (Ubuntu 64 bit) on Virtual Box. Allocate at least 8 GB of memory and 40GB of storage. "
   ]
  },
  {
   "cell_type": "markdown",
   "metadata": {},
   "source": [
    "Once that the machine is ready, log in.\n",
    "\n",
    "login username: vagrant\n",
    "pass: vagrant"
   ]
  },
  {
   "cell_type": "markdown",
   "metadata": {},
   "source": [
    "## Install GDC Client on Virtual Box"
   ]
  },
  {
   "cell_type": "markdown",
   "metadata": {},
   "source": [
    "### Install gdc client on virtual box\n",
    "wget https://gdc.nci.nih.gov/files/public/file/gdc-client_v1.0.1_Ubuntu14.04_x64.zip\n",
    "\n",
    "unzip gdc-client_v1.0.1_Ubuntu14.04_x64.zip\n",
    "\n",
    "### Verify that program works\n",
    "./gdc-client\n",
    "\n",
    "### Create a local folder to be shared on Virutal Box and put the manifest file, metadata, and parse_rnaseq_virtual.r script in this folder.\n",
    "\n",
    "### Enable guest additions in Virtual Box\n",
    "\n",
    "### Add yourself as a user in the group and restart the Virtual Box\n",
    "sudo adduser yourusername vboxsf\n",
    "\n",
    "### Add shared folder in the machine settings (auto mount)\n",
    "### The folder will be saved in /media/sf_sharedfolder, where “sharedfolder” is the name of the shared folder\n",
    "\n",
    "### In this case the shared folder is:\n",
    "\n",
    "/Users/choonoo/HNSCC_parse_RNAseq/venv_files"
   ]
  },
  {
   "cell_type": "markdown",
   "metadata": {},
   "source": [
    "## Use GDC Client to download the manifest"
   ]
  },
  {
   "cell_type": "markdown",
   "metadata": {},
   "source": [
    "### Specify folder where to download files from the manifest:\n",
    "\n",
    "mkdir files\n",
    "\n",
    "### Download files\n",
    "\n",
    "./gdc-client download --no-annotations -m /media/sf_venv_files/gdc_manifest_20170525_163733.txt -d ~/files/\n",
    "\n",
    "### Note: If you get a notification that asks to overwrite annotations, just hit enter many times. The annotations file isn’t used in this workflow. Be careful not quit out because your download will stop.\n",
    "\n",
    "### Put the nested files in a new folder:\n",
    "\n",
    "mkdir data\n",
    "\n",
    "find /home/vagrant/files/ -mindepth 2 -type f -exec mv -i '{}' /home/vagrant/data ';'\n",
    "\n",
    "### Gunzip all files\n",
    "\n",
    "cd /home/vagrant/data\n",
    "gunzip *.gz\n",
    "\n",
    "### Check the length of the folder, should be around 1638"
   ]
  },
  {
   "cell_type": "markdown",
   "metadata": {},
   "source": [
    "## Map the File IDs to the Patient IDs locally"
   ]
  },
  {
   "cell_type": "code",
   "execution_count": null,
   "metadata": {
    "collapsed": true
   },
   "outputs": [],
   "source": [
    "## Read in libraries\n",
    "library(readr)\n",
    "library(tidyjson)\n",
    "\n",
    "## Read in manifest file\n",
    "mani <- readr::read_delim(\"/Users/choonoo/HNSCC_parse_RNAseq/venv_files/gdc_manifest_20170525_163733.txt\", delim = \"\\t\")\n",
    "\n",
    "## ID represents downloaded folders\n",
    "newManifest <- mani[c(\"id\", \"filename\")]\n",
    "\n",
    "## Read in metadata file\n",
    "metadataFile <- jsonlite::fromJSON(\"/Users/choonoo/HNSCC_parse_RNAseq/venv_files/metadata.cart.2017-05-25T16_38_26.225791.json\")\n",
    "\n",
    "metadatas <- tidyjson::read_json(\"/Users/choonoo/HNSCC_parse_RNAseq/venv_files/metadata.cart.2017-05-25T16_38_26.225791.json\")\n",
    "\n",
    "## Parse the attributes of the .json file \n",
    "cases <- names(grep(\"^TCGA\", unlist(attributes(metadatas)$JSON[[1]][[1]]), value = TRUE))[[9]]\n",
    "type <- grep(\"file_id\", names(unlist(attributes(metadatas)$JSON[[1]][[1]])), value = TRUE)[[2]]\n",
    "idx <- match(c(cases, type), names(unlist(attributes(metadatas)$JSON[[1]][[1]])))\n",
    "\n",
    "## Loop through file and extract the IDs matched with the file name\n",
    "metaList <- attributes(metadatas)[[\"JSON\"]][[1L]]\n",
    "IDS <- lapply(seq_along(metaList), function(i) {\n",
    "  bcodeIdx <- match(\"cases.samples.portions.analytes.aliquots.submitter_id\",\n",
    "                    names(unlist(metaList[i])))\n",
    "  fileIdx <- match(\"file_name\", names(unlist(metaList[i])))\n",
    "  unlist(metaList[i])[c(bcodeIdx, fileIdx)]\n",
    "})\n",
    "\n",
    "bcodeFileID <- data.frame(do.call(rbind, IDS), stringsAsFactors = FALSE)\n",
    "\n",
    "# Includes primary tumor sample, metastatic, and solid normal tissue expression\n",
    "unique(sapply(strsplit(bcodeFileID[,1], \"-\"),\"[\",4))\n",
    "\n",
    "# 501 unique patients\n",
    "length(unique(paste(sapply(strsplit(bcodeFileID[,1], \"-\"),\"[\",2),sapply(strsplit(bcodeFileID[,1], \"-\"),\"[\",3),sep=\"-\")))\n",
    "\n",
    "bcodeFileID_v2 = bcodeFileID\n",
    "\n",
    "bcodeFileID_v2[,2] <- gsub(\".gz\",\"\",bcodeFileID_v2[,2])\n",
    "\n",
    "# Save metadata in shared folder\n",
    "write.table(file=\"/Users/choonoo/HNSCC_parse_RNAseq/venv_files/metadata_clean.txt\",x=bcodeFileID_v2, sep=\"\\t\",quote=F,row.names=F)"
   ]
  },
  {
   "cell_type": "markdown",
   "metadata": {},
   "source": [
    "## Run the virtual pipeline"
   ]
  },
  {
   "cell_type": "markdown",
   "metadata": {},
   "source": [
    "Rcript /media/sf_venv_files/parse_rnaseq_virtual.r\n",
    "\n",
    "## Data should be about 546 columns and over 60,000 rows for each of the 3 RNA seq files"
   ]
  },
  {
   "cell_type": "markdown",
   "metadata": {},
   "source": [
    "## Below is the code used to parse the data in Virtual Box in parse_rnaseq_virtual.r. \n",
    "## This is for reference only. Once the script is sourced in Virtual Box, the resulting 3 RNA-seq files will be saved in the shared folder on your local machine."
   ]
  },
  {
   "cell_type": "code",
   "execution_count": null,
   "metadata": {
    "collapsed": true
   },
   "outputs": [],
   "source": [
    "# read in the meta data from the shared folder\n",
    "read.delim(\"/media/sf_venv_files/metadata_clean.txt\", header=T) -> bcodeFileID_v2\n",
    "\n",
    "# set directory where data is\n",
    "dir = \"/home/vagrant/data\"\n",
    "\n",
    "# get list of files without parcel (logs)  \n",
    "files = dir(dir)[-grep(\"parcel\",dir(dir))]\n",
    "\n",
    "fpkm_dir = files[grep(\"FPKM.txt\",files)]\n",
    "\n",
    "fpkm_uq_dir = files[grep(\"FPKM-UQ.txt\",files)]\n",
    "\n",
    "htseq_counts_dir = files[grep(\"htseq.counts\",files)]\n",
    "\n",
    "############################################################\n",
    "\n",
    "# read in and parse FPKM\n",
    "\n",
    "fpkm_data = vector(\"list\", length(fpkm_dir))\n",
    "\n",
    "for(i in 1:length(fpkm_dir)){\n",
    "  print(i)\n",
    "  read.delim(file=paste(dir, fpkm_dir[i], sep=\"/\"), header=F) -> fpkm_data[[i]]\n",
    "  \n",
    "  row.names(fpkm_data[[i]]) <- fpkm_data[[i]][,1]\n",
    "  \n",
    "  fpkm_data[[i]][ , 2, drop = FALSE] -> fpkm_data[[i]]\n",
    "  \n",
    "  names(fpkm_data[[i]]) <- bcodeFileID_v2[bcodeFileID_v2[,\"file_name\"] %in% fpkm_dir[i],1]\n",
    "}\n",
    "\n",
    "head(fpkm_data[[1]])\n",
    "head(fpkm_data[[2]])\n",
    "\n",
    "do.call(cbind, fpkm_data) -> fpkm_data_full\n",
    "\n",
    "\n",
    "############################################################\n",
    "\n",
    "# read in and parse FPKM UQ\n",
    "\n",
    "fpkm_uq_data = vector(\"list\", length(fpkm_uq_dir))\n",
    "\n",
    "for(i in 1:length(fpkm_uq_dir)){\n",
    "  print(i)\n",
    "  read.delim(file=paste(dir, fpkm_uq_dir[i], sep=\"/\"), header=F) -> fpkm_uq_data[[i]]\n",
    "  \n",
    "  row.names(fpkm_uq_data[[i]]) <- fpkm_uq_data[[i]][,1]\n",
    "  \n",
    "  fpkm_uq_data[[i]][ , 2, drop = FALSE] -> fpkm_uq_data[[i]]\n",
    "  \n",
    "  names(fpkm_uq_data[[i]]) <- bcodeFileID_v2[bcodeFileID_v2[,\"file_name\"] %in% fpkm_uq_dir[i],1]\n",
    "}\n",
    "\n",
    "head(fpkm_uq_data[[1]])\n",
    "head(fpkm_uq_data[[2]])\n",
    "\n",
    "do.call(cbind, fpkm_uq_data) -> fpkm_uq_data_full\n",
    "\n",
    "############################################################\n",
    "\n",
    "# read in and parse htseq counts\n",
    "\n",
    "hitseq_data = vector(\"list\", length(htseq_counts_dir))\n",
    "\n",
    "for(i in 1:length(htseq_counts_dir)){\n",
    "  print(i)\n",
    "  read.delim(file=paste(dir, htseq_counts_dir[i], sep=\"/\"), header=F) -> hitseq_data[[i]]\n",
    "  \n",
    "  row.names(hitseq_data[[i]]) <- hitseq_data[[i]][,1]\n",
    "  \n",
    "  hitseq_data[[i]][ , 2, drop = FALSE] -> hitseq_data[[i]]\n",
    "  \n",
    "  names(hitseq_data[[i]]) <- bcodeFileID_v2[bcodeFileID_v2[,\"file_name\"] %in% htseq_counts_dir[i],1]\n",
    "}\n",
    "\n",
    "head(hitseq_data[[1]])\n",
    "head(hitseq_data[[2]])\n",
    "\n",
    "do.call(cbind, hitseq_data) -> hitseq_data_full\n",
    "\n",
    "############################################################\n",
    "\n",
    "# save data\n",
    "\n",
    "save(fpkm_data_full, file=\"/media/sf_venv_files/fpkm_data_full.rda\")\n",
    "\n",
    "save(fpkm_uq_data_full, file=\"/media/sf_venv_files/fpkm_uq_data_full.rda\")\n",
    "\n",
    "save(hitseq_data_full, file=\"/media/sf_venv_files/hitseq_data_full.rda\")\n",
    "\n",
    "write.table(\"/media/sf_venv_files/fpkm_data_full.txt\", x= fpkm_data_full, sep=\"\\t\", quote=F)\n",
    "\n",
    "write.table(\"/media/sf_venv_files/fpkm_uq_data_full.txt\", x= fpkm_uq_data_full, sep=\"\\t\", quote=F)\n",
    "\n",
    "write.table(\"/media/sf_venv_files/hitseq_data_full.txt\", x=hitseq_data_full, sep=\"\\t\", quote=F)\n"
   ]
  }
 ],
 "metadata": {
  "anaconda-cloud": {},
  "kernelspec": {
   "display_name": "R",
   "language": "R",
   "name": "ir"
  },
  "language_info": {
   "codemirror_mode": "r",
   "file_extension": ".r",
   "mimetype": "text/x-r-source",
   "name": "R",
   "pygments_lexer": "r",
   "version": "3.2.2"
  }
 },
 "nbformat": 4,
 "nbformat_minor": 1
}
